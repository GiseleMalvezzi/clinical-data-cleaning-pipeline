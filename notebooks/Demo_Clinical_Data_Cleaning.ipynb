{
 "cells": [
  {
   "cell_type": "markdown",
   "metadata": {},
   "source": [
    "# Clinical Data Cleaning Pipeline - Demo Notebook\n",
    "\n",
    "This notebook demonstrates how to use the clinical data cleaning pipeline with a small synthetic dataset."
   ]
  },
  {
   "cell_type": "markdown",
   "metadata": {},
   "source": [
    "## 1. Setup and Data Import\n",
    "\n",
    "First, we'll load the required libraries and import our synthetic clinical data."
   ]
  },
  {
   "cell_type": "code",
   "execution_count": null,
   "metadata": {},
   "outputs": [],
   "source": [
    "# Load required libraries\n",
    "library(tidyverse)\n",
    "library(data.table)\n",
    "library(janitor)\n",
    "\n",
    "# Import the raw clinical data\n",
    "raw_data <- read.csv('data/raw/patient_data.csv')\n",
    "\n",
    "# Display the first few rows\n",
    "head(raw_data)"
   ]
  },
  {
   "cell_type": "markdown",
   "metadata": {},
   "source": [
    "## 2. Data Visualization: Before Cleaning\n",
    "\n",
    "Let's examine the data quality issues before applying the cleaning pipeline."
   ]
  },
  {
   "cell_type": "code",
   "execution_count": null,
   "metadata": {},
   "outputs": [],
   "source": [
    "# Check for missing values\n",
    "library(naniar)\n",
    "vis_miss(raw_data)\n",
    "\n",
    "# Summary statistics\n",
    "summary(raw_data)\n",
    "\n",
    "# Histogram of blood pressure values (showing potential outliers)\n",
    "ggplot(raw_data, aes(x = blood_pressure)) +\n",
    "  geom_histogram(bins = 10, fill = 'steelblue', color = 'black') +\n",
    "  labs(title = 'Blood Pressure Distribution (Raw Data)',\n",
    "       x = 'Blood Pressure', y = 'Count') +\n",
    "  theme_minimal()"
   ]
  },
  {
   "cell_type": "markdown",
   "metadata": {},
   "source": [
    "## 3. Running the Pipeline\n",
    "\n",
    "Now we'll execute the main cleaning pipeline script."
   ]
  },
  {
   "cell_type": "code",
   "execution_count": null,
   "metadata": {},
   "outputs": [],
   "source": [
    "# Run the complete data cleaning pipeline\n",
    "source('main_pipeline.R')\n",
    "\n",
    "# Alternative: Run individual steps for more control\n",
    "# source('scripts/01_import_data.R')\n",
    "# source('scripts/02_validate_data.R')\n",
    "# source('scripts/03_clean_data.R')\n",
    "# source('scripts/04_quality_checks.R')\n",
    "# source('scripts/05_export_data.R')"
   ]
  },
  {
   "cell_type": "markdown",
   "metadata": {},
   "source": [
    "## 4. Results: After Cleaning\n",
    "\n",
    "Let's examine the cleaned data and compare it with the original."
   ]
  },
  {
   "cell_type": "code",
   "execution_count": null,
   "metadata": {},
   "outputs": [],
   "source": [
    "# Load the cleaned data\n",
    "cleaned_data <- read.csv('data/processed/patient_data_cleaned.csv')\n",
    "\n",
    "# Display cleaned data\n",
    "print('Cleaned Data:')\n",
    "print(cleaned_data)\n",
    "\n",
    "# Compare data quality metrics\n",
    "cat('\\nData Quality Comparison:\\n')\n",
    "cat('Raw data completeness:', mean(complete.cases(raw_data)) * 100, '%\\n')\n",
    "cat('Cleaned data completeness:', mean(complete.cases(cleaned_data)) * 100, '%\\n')\n",
    "\n",
    "# Visualize cleaned blood pressure distribution\n",
    "ggplot(cleaned_data, aes(x = blood_pressure)) +\n",
    "  geom_histogram(bins = 10, fill = 'forestgreen', color = 'black') +\n",
    "  labs(title = 'Blood Pressure Distribution (Cleaned Data)',\n",
    "       x = 'Blood Pressure', y = 'Count') +\n",
    "  theme_minimal()"
   ]
  },
  {
   "cell_type": "markdown",
   "metadata": {},
   "source": [
    "## 5. Quality Report Output\n",
    "\n",
    "The pipeline generates comprehensive quality reports in the `reports/` directory:\n",
    "\n",
    "### Generated Reports:\n",
    "\n",
    "1. **Data Quality Report** (`reports/data_quality/quality_report.html`)\n",
    "   - Summary statistics for all variables\n",
    "   - Missing data patterns and visualizations\n",
    "   - Outlier detection results\n",
    "   - Validation rule violations\n",
    "\n",
    "2. **Audit Trail** (`reports/audit_trails/audit_log.csv`)\n",
    "   - Complete timestamp log of all operations\n",
    "   - Detailed record of changes made to each data point\n",
    "   - User/script information for each transformation\n",
    "\n",
    "3. **Statistical Summary** (`reports/summary_statistics/summary.html`)\n",
    "   - Descriptive statistics (mean, median, SD, etc.)\n",
    "   - Distribution plots for continuous variables\n",
    "   - Frequency tables for categorical variables\n",
    "   - Data completeness metrics\n",
    "\n",
    "### Viewing the Reports:\n",
    "\n",
    "You can open the HTML reports directly in your browser, or use the code below to load them within R:"
   ]
  },
  {
   "cell_type": "code",
   "execution_count": null,
   "metadata": {},
   "outputs": [],
   "source": [
    "# View the quality report in your browser\n",
    "browseURL('reports/data_quality/quality_report.html')\n",
    "\n",
    "# Load and inspect the audit trail\n",
    "audit_log <- read.csv('reports/audit_trails/audit_log.csv')\n",
    "head(audit_log, 10)\n",
    "\n",
    "# Display summary of changes made\n",
    "cat('\\nTotal number of transformations:', nrow(audit_log), '\\n')\n",
    "cat('Number of records affected:', length(unique(audit_log$record_id)), '\\n')"
   ]
  },
  {
   "cell_type": "markdown",
   "metadata": {},
   "source": [
    "---\n",
    "\n",
    "**Note:** This demo uses synthetic data for educational purposes. For production use with real clinical trial data, ensure compliance with all regulatory requirements (GCP, 21 CFR Part 11, ALCOA+ principles) and consult with your data management team."
   ]
  }
 ],
 "metadata": {
  "kernelspec": {
   "display_name": "R",
   "language": "R",
   "name": "ir"
  },
  "language_info": {
   "codemirror_mode": "r",
   "file_extension": ".r",
   "mimetype": "text/x-r-source",
   "name": "R",
   "pygments_lexer": "r",
   "version": "4.0.0"
  }
 },
 "nbformat": 4,
 "nbformat_minor": 4
}
